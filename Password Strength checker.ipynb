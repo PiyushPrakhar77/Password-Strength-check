{
 "cells": [
  {
   "cell_type": "code",
   "execution_count": 1,
   "id": "2a845efd-e667-46c6-98c6-e734829f0ef4",
   "metadata": {},
   "outputs": [
    {
     "name": "stdout",
     "output_type": "stream",
     "text": [
      "      password  strength\n",
      "0     kzde5577         1\n",
      "1     kino3434         1\n",
      "2    visi7k1yr         1\n",
      "3     megzy123         1\n",
      "4  lamborghin1         1\n"
     ]
    }
   ],
   "source": [
    "import pandas as pd\n",
    "import numpy as np\n",
    "from sklearn.feature_extraction.text import CountVectorizer        #converts a collection of text documents into a numerical representation\n",
    "from sklearn.feature_extraction.text import TfidfVectorizer        #converts text documents into vectors\n",
    "from sklearn.model_selection import train_test_split\n",
    "from sklearn.ensemble import RandomForestClassifier\n",
    "\n",
    "data = pd.read_csv(\"C:\\\\Users\\\\91878\\\\Downloads\\\\archive\\\\data.csv\", on_bad_lines='skip')\n",
    "print(data.head())"
   ]
  },
  {
   "cell_type": "code",
   "execution_count": 2,
   "id": "a2421e2a-a6f9-4661-9ea0-5ee455d546fd",
   "metadata": {},
   "outputs": [
    {
     "name": "stdout",
     "output_type": "stream",
     "text": [
      "          password strength\n",
      "160101    g9o6975d   Medium\n",
      "488327  buothe1798   Medium\n",
      "295893  v6c4bi17ka   Medium\n",
      "596596     karan07     Weak\n",
      "213900   128828hpp   Medium\n"
     ]
    }
   ],
   "source": [
    "data = data.dropna()\n",
    "data[\"strength\"] = data[\"strength\"].map({0: \"Weak\", \n",
    "                                         1: \"Medium\",\n",
    "                                         2: \"Strong\"})\n",
    "print(data.sample(5))"
   ]
  },
  {
   "cell_type": "code",
   "execution_count": 3,
   "id": "309afa2d-43a4-4e09-bf2e-8ab54d07fbe4",
   "metadata": {},
   "outputs": [
    {
     "data": {
      "text/html": [
       "<div>\n",
       "<style scoped>\n",
       "    .dataframe tbody tr th:only-of-type {\n",
       "        vertical-align: middle;\n",
       "    }\n",
       "\n",
       "    .dataframe tbody tr th {\n",
       "        vertical-align: top;\n",
       "    }\n",
       "\n",
       "    .dataframe thead th {\n",
       "        text-align: right;\n",
       "    }\n",
       "</style>\n",
       "<table border=\"1\" class=\"dataframe\">\n",
       "  <thead>\n",
       "    <tr style=\"text-align: right;\">\n",
       "      <th></th>\n",
       "      <th>password</th>\n",
       "      <th>strength</th>\n",
       "    </tr>\n",
       "  </thead>\n",
       "  <tbody>\n",
       "    <tr>\n",
       "      <th>count</th>\n",
       "      <td>669639</td>\n",
       "      <td>669639</td>\n",
       "    </tr>\n",
       "    <tr>\n",
       "      <th>unique</th>\n",
       "      <td>669639</td>\n",
       "      <td>3</td>\n",
       "    </tr>\n",
       "    <tr>\n",
       "      <th>top</th>\n",
       "      <td>fxx4pw4g</td>\n",
       "      <td>Medium</td>\n",
       "    </tr>\n",
       "    <tr>\n",
       "      <th>freq</th>\n",
       "      <td>1</td>\n",
       "      <td>496801</td>\n",
       "    </tr>\n",
       "  </tbody>\n",
       "</table>\n",
       "</div>"
      ],
      "text/plain": [
       "        password strength\n",
       "count     669639   669639\n",
       "unique    669639        3\n",
       "top     fxx4pw4g   Medium\n",
       "freq           1   496801"
      ]
     },
     "execution_count": 3,
     "metadata": {},
     "output_type": "execute_result"
    }
   ],
   "source": [
    "data.describe()"
   ]
  },
  {
   "cell_type": "code",
   "execution_count": 4,
   "id": "3e50a704-ef36-442b-bd6b-0021ea6f06a4",
   "metadata": {},
   "outputs": [
    {
     "data": {
      "text/html": [
       "<div>\n",
       "<style scoped>\n",
       "    .dataframe tbody tr th:only-of-type {\n",
       "        vertical-align: middle;\n",
       "    }\n",
       "\n",
       "    .dataframe tbody tr th {\n",
       "        vertical-align: top;\n",
       "    }\n",
       "\n",
       "    .dataframe thead th {\n",
       "        text-align: right;\n",
       "    }\n",
       "</style>\n",
       "<table border=\"1\" class=\"dataframe\">\n",
       "  <thead>\n",
       "    <tr style=\"text-align: right;\">\n",
       "      <th></th>\n",
       "      <th>password</th>\n",
       "      <th>strength</th>\n",
       "    </tr>\n",
       "  </thead>\n",
       "  <tbody>\n",
       "    <tr>\n",
       "      <th>0</th>\n",
       "      <td>kzde5577</td>\n",
       "      <td>Medium</td>\n",
       "    </tr>\n",
       "    <tr>\n",
       "      <th>1</th>\n",
       "      <td>kino3434</td>\n",
       "      <td>Medium</td>\n",
       "    </tr>\n",
       "    <tr>\n",
       "      <th>2</th>\n",
       "      <td>visi7k1yr</td>\n",
       "      <td>Medium</td>\n",
       "    </tr>\n",
       "    <tr>\n",
       "      <th>3</th>\n",
       "      <td>megzy123</td>\n",
       "      <td>Medium</td>\n",
       "    </tr>\n",
       "    <tr>\n",
       "      <th>4</th>\n",
       "      <td>lamborghin1</td>\n",
       "      <td>Medium</td>\n",
       "    </tr>\n",
       "    <tr>\n",
       "      <th>...</th>\n",
       "      <td>...</td>\n",
       "      <td>...</td>\n",
       "    </tr>\n",
       "    <tr>\n",
       "      <th>669635</th>\n",
       "      <td>10redtux10</td>\n",
       "      <td>Medium</td>\n",
       "    </tr>\n",
       "    <tr>\n",
       "      <th>669636</th>\n",
       "      <td>infrared1</td>\n",
       "      <td>Medium</td>\n",
       "    </tr>\n",
       "    <tr>\n",
       "      <th>669637</th>\n",
       "      <td>184520socram</td>\n",
       "      <td>Medium</td>\n",
       "    </tr>\n",
       "    <tr>\n",
       "      <th>669638</th>\n",
       "      <td>marken22a</td>\n",
       "      <td>Medium</td>\n",
       "    </tr>\n",
       "    <tr>\n",
       "      <th>669639</th>\n",
       "      <td>fxx4pw4g</td>\n",
       "      <td>Medium</td>\n",
       "    </tr>\n",
       "  </tbody>\n",
       "</table>\n",
       "<p>669639 rows × 2 columns</p>\n",
       "</div>"
      ],
      "text/plain": [
       "            password strength\n",
       "0           kzde5577   Medium\n",
       "1           kino3434   Medium\n",
       "2          visi7k1yr   Medium\n",
       "3           megzy123   Medium\n",
       "4        lamborghin1   Medium\n",
       "...              ...      ...\n",
       "669635    10redtux10   Medium\n",
       "669636     infrared1   Medium\n",
       "669637  184520socram   Medium\n",
       "669638     marken22a   Medium\n",
       "669639      fxx4pw4g   Medium\n",
       "\n",
       "[669639 rows x 2 columns]"
      ]
     },
     "execution_count": 4,
     "metadata": {},
     "output_type": "execute_result"
    }
   ],
   "source": [
    "data"
   ]
  },
  {
   "cell_type": "code",
   "execution_count": 4,
   "id": "dda106cd-69f0-4886-ab6b-d1de5e1be9d8",
   "metadata": {},
   "outputs": [
    {
     "name": "stdout",
     "output_type": "stream",
     "text": [
      "x shape: (669639, 153), y shape: (669639,)\n",
      "x type: <class 'scipy.sparse._csr.csr_matrix'>, y type: <class 'numpy.ndarray'>\n"
     ]
    }
   ],
   "source": [
    "def word(password):\n",
    "    character=[]\n",
    "    for i in password:\n",
    "        character.append(i)\n",
    "    return character\n",
    "  \n",
    "x = np.array(data[\"password\"])\n",
    "y = np.array(data[\"strength\"])\n",
    "\n",
    "tdif = TfidfVectorizer(tokenizer=word,token_pattern=None)\n",
    "x = tdif.fit_transform(x)\n",
    "\n",
    "print(f'x shape: {x.shape}, y shape: {y.shape}')\n",
    "print(f'x type: {type(x)}, y type: {type(y)}')\n",
    "xtrain, xtest, ytrain, ytest = train_test_split(x, y, \n",
    "                                                test_size=0.05, \n",
    "                                                random_state=42)\n"
   ]
  },
  {
   "cell_type": "code",
   "execution_count": 5,
   "id": "a2f9ccc3-061c-4cfc-95d5-b21dd4d287c2",
   "metadata": {},
   "outputs": [
    {
     "name": "stdout",
     "output_type": "stream",
     "text": [
      "xtrain shape: (636157, 153), ytrain shape: (636157,)\n",
      "xtest shape: (33482, 153), ytest shape: (33482,)\n"
     ]
    }
   ],
   "source": [
    "print(f'xtrain shape: {xtrain.shape}, ytrain shape: {ytrain.shape}')\n",
    "print(f'xtest shape: {xtest.shape}, ytest shape: {ytest.shape}')\n"
   ]
  },
  {
   "cell_type": "code",
   "execution_count": 6,
   "id": "66ce5574-35e0-4029-aa76-2c876b2b0a4b",
   "metadata": {},
   "outputs": [
    {
     "name": "stdout",
     "output_type": "stream",
     "text": [
      "Accuracy: 0.9564243474105489\n"
     ]
    }
   ],
   "source": [
    "model = RandomForestClassifier()\n",
    "model.fit(xtrain, ytrain)\n",
    "print(f'Accuracy: {model.score(xtest, ytest)}')"
   ]
  },
  {
   "cell_type": "code",
   "execution_count": 14,
   "id": "d0b97b59-0e27-4bf9-b647-51e2acc1c585",
   "metadata": {},
   "outputs": [
    {
     "name": "stdin",
     "output_type": "stream",
     "text": [
      "Enter Password:  ········\n"
     ]
    },
    {
     "name": "stdout",
     "output_type": "stream",
     "text": [
      "['Medium']\n"
     ]
    }
   ],
   "source": [
    "import getpass\n",
    "user = getpass.getpass(\"Enter Password: \")\n",
    "data = tdif.transform([user]).toarray()\n",
    "\n",
    "output = model.predict(data)\n",
    "print(output)"
   ]
  }
 ],
 "metadata": {
  "kernelspec": {
   "display_name": "Python 3 (ipykernel)",
   "language": "python",
   "name": "python3"
  },
  "language_info": {
   "codemirror_mode": {
    "name": "ipython",
    "version": 3
   },
   "file_extension": ".py",
   "mimetype": "text/x-python",
   "name": "python",
   "nbconvert_exporter": "python",
   "pygments_lexer": "ipython3",
   "version": "3.12.4"
  }
 },
 "nbformat": 4,
 "nbformat_minor": 5
}
